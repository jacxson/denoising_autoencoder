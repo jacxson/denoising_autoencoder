{
 "cells": [
  {
   "cell_type": "code",
   "execution_count": 1,
   "id": "82480d73-2f7a-4124-9094-152dd7439514",
   "metadata": {},
   "outputs": [],
   "source": [
    "import os\n",
    "import librosa\n",
    "import numpy as np\n",
    "import matplotlib.pyplot as plt\n",
    "\n",
    "from noisifier import Noisifier\n",
    "from splitter import Splitter\n",
    "from dataset_preprocessor import PolarSpectrogramExtractor, AudioDatasetFromCSV"
   ]
  },
  {
   "cell_type": "markdown",
   "id": "4e899f71-6178-465f-9aac-72cf34e31ad6",
   "metadata": {},
   "source": [
    "# Constants\n",
    "\n",
    "Constants were set for use across all of the preprocessing scripts. AUDIO_DIR, HARM_NOISE_DIR, and ENV_NOISE_DIR already exist and contain audio sources, the corresponsig SAVE_DIRs are created by the preprocessor objects."
   ]
  },
  {
   "cell_type": "code",
   "execution_count": 2,
   "id": "cbb12a84-42cc-4589-92a2-7e49577b3760",
   "metadata": {},
   "outputs": [],
   "source": [
    "SAMPLE_RATE = 22050\n",
    "SAMPLE_LENGTH = 2**16\n",
    "FRAME_SIZE = 1024\n",
    "HOP_LENGTH = 256\n",
    "VALIDATION_SIZE = 0.1\n",
    "BATCH_SIZE = 32\n",
    "AUDIO_DIR = \"./audio/guitar_samples/\"\n",
    "HARM_NOISE_DIR = \"./audio/harm_noise/\"\n",
    "ENV_NOISE_DIR = \"./audio/esc_50/\"\n",
    "TARGET_SAVE_DIR = \"./audio/target/\"\n",
    "NOISE_SAVE_DIR = \"./audio/noise/\"\n",
    "MIXED_SAVE_DIR = \"./audio/mixed/\""
   ]
  },
  {
   "cell_type": "markdown",
   "id": "c6d47cd8-351f-495e-95aa-01058e0944f8",
   "metadata": {},
   "source": [
    "# Instantiate Splitter\n",
    "Code for the custom Splitter class can be found in the [splitter module](./splitter.py). The splitter is set to a given sample rate and target duration and splits audio files accoridingly. To ensure that all audio samples are the same size, the splitter will apply padding to the right size of a slice if the remaining audio in a given sample is shorter than the target duration. If the remaining audio is less than half of the target duration, the splitter will discard that slice. "
   ]
  },
  {
   "cell_type": "code",
   "execution_count": 3,
   "id": "dc1c45d3-b60a-4363-913c-f0c649b175bf",
   "metadata": {},
   "outputs": [],
   "source": [
    "splitter_params = {\n",
    "    'target_sr': SAMPLE_RATE,\n",
    "    'target_length': SAMPLE_LENGTH\n",
    "}\n",
    "\n",
    "splitter = Splitter(**splitter_params)"
   ]
  },
  {
   "cell_type": "markdown",
   "id": "f7bbcaaf-3b7e-4a17-be6d-4850a4504f6e",
   "metadata": {},
   "source": [
    "# Split Target and Noise Files\n",
    "If the given save directories do not yet exist, the splitter will create them before storing the split audio."
   ]
  },
  {
   "cell_type": "code",
   "execution_count": 4,
   "id": "7dbcf39b-733b-44fb-ab81-6847b2f3b550",
   "metadata": {},
   "outputs": [
    {
     "name": "stdout",
     "output_type": "stream",
     "text": [
      "\n",
      "        2642 2.972154195011338-second audio files created in:\n",
      "        ./audio/target/\n",
      "        \n",
      "\n",
      "        2612 2.972154195011338-second audio files created in:\n",
      "        ./audio/noise/\n",
      "        \n",
      "\n",
      "        5012 2.972154195011338-second audio files created in:\n",
      "        ./audio/noise/\n",
      "        \n"
     ]
    }
   ],
   "source": [
    "splitter.process_audio_files(directory=AUDIO_DIR, save_dir=TARGET_SAVE_DIR)\n",
    "splitter.process_audio_files(directory=HARM_NOISE_DIR, save_dir=NOISE_SAVE_DIR)\n",
    "splitter.process_audio_files(directory=ENV_NOISE_DIR, save_dir=NOISE_SAVE_DIR)"
   ]
  },
  {
   "cell_type": "markdown",
   "id": "da28feaa-7794-4236-8dd3-387252f7cbd8",
   "metadata": {},
   "source": [
    "# Instantiate Noisifier\n",
    "The Noisifier object adds a target and noise audio signal together at a random signal to noise ratio. The code for this class can be viewed in the [noisifier module](./noisifier.py). The noisifier will create the save directory if it does not already exist."
   ]
  },
  {
   "cell_type": "code",
   "execution_count": 4,
   "id": "902992f0-006e-44ae-bb32-c67e77e0007f",
   "metadata": {},
   "outputs": [],
   "source": [
    "noisifier_params = {\n",
    "    'audio_dir': TARGET_SAVE_DIR, \n",
    "    'noise_dir': NOISE_SAVE_DIR, \n",
    "    'save_dir': MIXED_SAVE_DIR, \n",
    "    'sr': SAMPLE_RATE,\n",
    "    'snr_range': [0, 5]\n",
    "}\n",
    "\n",
    "noisifier = Noisifier(**noisifier_params)"
   ]
  },
  {
   "cell_type": "markdown",
   "id": "51887895-bdeb-476e-805f-ba6ee1985585",
   "metadata": {},
   "source": [
    "# Add Noise to Target Files\n",
    "The noisifier saves both the mixed audio files and a csv with metadata about which audio signals were mixed together at what signal to noise ratio."
   ]
  },
  {
   "cell_type": "code",
   "execution_count": 6,
   "id": "2a6d6cc1-c9d2-4571-9742-aae78fef034e",
   "metadata": {},
   "outputs": [
    {
     "name": "stdin",
     "output_type": "stream",
     "text": [
      "Please specify a name for the metadata csv file noise_metadata\n"
     ]
    },
    {
     "name": "stdout",
     "output_type": "stream",
     "text": [
      "Metadata saved at location: ./audio/noise_metadata.csv\n"
     ]
    }
   ],
   "source": [
    "noisifier.noisify()"
   ]
  },
  {
   "cell_type": "markdown",
   "id": "f8d51869-298d-456f-a698-aa29f6f901d0",
   "metadata": {},
   "source": [
    "# Instantiate Polar Spectrogram Extractor\n",
    "The polar spectrogram extractor is part of the [dataset preprocessor module](./dataset_preprocessor.py). It works in tandem with the AudioDatasetFromCSV object to create a dataset of spectrograms based on the csv file produced by the noisifier."
   ]
  },
  {
   "cell_type": "code",
   "execution_count": 5,
   "id": "07334516-278c-47d2-8bf3-842d8ced97fa",
   "metadata": {},
   "outputs": [],
   "source": [
    "extractor_params = {\n",
    "    'frame_size': FRAME_SIZE,\n",
    "    'hop_length': HOP_LENGTH\n",
    "}\n",
    "extractor = PolarSpectrogramExtractor(**extractor_params)"
   ]
  },
  {
   "cell_type": "markdown",
   "id": "30472aa3-8b42-42d0-867b-499a186f0cba",
   "metadata": {},
   "source": [
    "# Instantiate Custom Dataset Object\n",
    "The dataset creator works with the spectrogram extractor to create a dataset with spectrograms of the mixed signals, original clean signals, and noise signals along with an expanded metadata csv to document the mixtures and their respective spectrogram and audio file paths. Once the dataset has been created once, the \"prepared\" attribute can be set to false and the metadata csv can be updated to the one produced by the dataset at the initial dataset creation. "
   ]
  },
  {
   "cell_type": "code",
   "execution_count": 12,
   "id": "5e865b54-85cf-44ce-b680-64e749f10a59",
   "metadata": {},
   "outputs": [],
   "source": [
    "dataset_params = {\n",
    "    'spectrogram_extractor': extractor,\n",
    "    'metadata_csv': './audio/noise_metadata.csv',\n",
    "    'validation_size': VALIDATION_SIZE,\n",
    "    'sr': SAMPLE_RATE,\n",
    "    'prepared': False\n",
    "}\n",
    "\n",
    "data = AudioDatasetFromCSV(**dataset_params)"
   ]
  },
  {
   "cell_type": "markdown",
   "id": "61565386-7a99-485d-a78a-aacbe39b73b7",
   "metadata": {},
   "source": [
    "# Preprocess Data"
   ]
  },
  {
   "cell_type": "code",
   "execution_count": 13,
   "id": "08970f6f-bc1d-40bb-afc8-f0f79b16d555",
   "metadata": {},
   "outputs": [],
   "source": [
    "data.prepare_dataset()"
   ]
  },
  {
   "cell_type": "markdown",
   "id": "85fa6a7a-4c6c-49bd-bdb4-b2d6f53aa7df",
   "metadata": {},
   "source": [
    "# Make Train and Test Sets\n",
    "This dataset object not only takes care of preprocessing, but also creates a spit train and testing set according to the validation size specified when instantiated. All of the train and test sets included in the object are created as numpy arrays with dimensions that are friendly to working with the tensorflow keras api."
   ]
  },
  {
   "cell_type": "code",
   "execution_count": 14,
   "id": "2773382f-900a-4921-bac8-c082b8edc2cb",
   "metadata": {},
   "outputs": [],
   "source": [
    "data.train_test_split()"
   ]
  },
  {
   "cell_type": "code",
   "execution_count": 15,
   "id": "a7b414ec-1df3-4533-81b7-acaeed820f76",
   "metadata": {},
   "outputs": [
    {
     "data": {
      "text/plain": [
       "(2377, 512, 256, 2)"
      ]
     },
     "execution_count": 15,
     "metadata": {},
     "output_type": "execute_result"
    }
   ],
   "source": [
    "data.x_train.shape"
   ]
  }
 ],
 "metadata": {
  "kernelspec": {
   "display_name": "python 3.8 tensorflow-metal",
   "language": "python",
   "name": "tf_metal"
  },
  "language_info": {
   "codemirror_mode": {
    "name": "ipython",
    "version": 3
   },
   "file_extension": ".py",
   "mimetype": "text/x-python",
   "name": "python",
   "nbconvert_exporter": "python",
   "pygments_lexer": "ipython3",
   "version": "3.8.16"
  }
 },
 "nbformat": 4,
 "nbformat_minor": 5
}
